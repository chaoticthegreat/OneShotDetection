{
 "cells": [
  {
   "cell_type": "code",
   "execution_count": 1,
   "id": "edcd4cbb-c243-4a2a-8215-07fd5c005ad7",
   "metadata": {},
   "outputs": [],
   "source": [
    "from PIL import Image, ImageDraw\n",
    "import cv2\n",
    "import os\n",
    "import random\n",
    "import math\n",
    "from IPython.display import clear_output"
   ]
  },
  {
   "cell_type": "code",
   "execution_count": 2,
   "id": "2bdbe31d-d2d1-4c61-aae9-8a6050dabcff",
   "metadata": {},
   "outputs": [
    {
     "name": "stdout",
     "output_type": "stream",
     "text": [
      "Annotating file number: 3034\n"
     ]
    }
   ],
   "source": [
    "BACKGROUND_HEIGHT = 640\n",
    "BACKGROUND_WIDTH = 640\n",
    "num = 0\n",
    "object_list = []\n",
    "for file in os.listdir(os.path.join('data', 'object')):\n",
    "    file = Image.open(os.path.join('data', 'object', file))\n",
    "    object_list.append(file)\n",
    "for background_path in os.listdir(os.path.join('data', 'background')):\n",
    "    file = random.choice(object_list)\n",
    "    object_width, object_height = file.size\n",
    "    background = Image.open(os.path.join('data','background',background_path))\n",
    "    background = background.resize((BACKGROUND_WIDTH, BACKGROUND_HEIGHT))\n",
    "    factor = (max(1, max(object_width/BACKGROUND_WIDTH, object_height/BACKGROUND_HEIGHT)) *round(random.random()*(5-1.1)+1.1, 2))\n",
    "    new_file = file.resize((round(object_width / factor), round(object_height/ factor)))\n",
    "    if (random.randint(1,6)) >2:\n",
    "        new_file=  new_file.transpose(random.choice([Image.TRANSPOSE, Image.TRANSVERSE, Image.FLIP_LEFT_RIGHT, Image.FLIP_TOP_BOTTOM, Image.ROTATE_90, Image.ROTATE_270]))\n",
    "    new_width, new_height = new_file.size\n",
    "    location = (random.randint(0,round(BACKGROUND_WIDTH*0.9)), random.randint(0, round(BACKGROUND_HEIGHT*0.9)))\n",
    "    background.paste(new_file, location, new_file)\n",
    "    x  = (location[0]+round(new_width/2)) / BACKGROUND_WIDTH\n",
    "    y = (location[1]+round(new_height/2)) / BACKGROUND_HEIGHT\n",
    "    width  = new_width / BACKGROUND_WIDTH\n",
    "    height = new_height/ BACKGROUND_HEIGHT\n",
    "    background.save(os.path.join('data', 'combined', background_path))\n",
    "    with open(os.path.join('data', 'labels', background_path[:-3]+\"txt\"), \"w\") as text:\n",
    "        text.write(f\"0 {x} {y} {width} {height}\")\n",
    "    num+=1\n",
    "    clear_output(wait=True)\n",
    "    print(\"Annotating file number: \"+str(num))"
   ]
  },
  {
   "cell_type": "code",
   "execution_count": 3,
   "id": "c35b839b-1fb1-4a61-92b1-b169920c1125",
   "metadata": {},
   "outputs": [],
   "source": [
    "filecount = 0\n",
    "for file in os.listdir(os.path.join('data', 'combined')):\n",
    "    filecount+=1\n",
    "    if filecount > 2700:\n",
    "        os.replace(os.path.join('data', 'combined', file), os.path.join('datasets', 'test', 'images', file))\n",
    "        os.replace(os.path.join('data', 'labels', file[:-3]+\"txt\"), os.path.join('datasets', 'test', 'labels',file[:-3]+\"txt\"))\n",
    "    elif filecount>2400:\n",
    "        os.replace(os.path.join('data', 'combined', file), os.path.join('datasets', 'valid', 'images', file))\n",
    "        os.replace(os.path.join('data', 'labels', file[:-3]+\"txt\"), os.path.join('datasets', 'valid', 'labels', file[:-3]+\"txt\"))\n",
    "    else:\n",
    "        os.replace(os.path.join('data', 'combined', file), os.path.join('datasets', 'train', 'images',file))\n",
    "        os.replace(os.path.join('data', 'labels', file[:-3]+\"txt\"), os.path.join('datasets', 'train', 'labels', file[:-3]+\"txt\"))"
   ]
  },
  {
   "cell_type": "code",
   "execution_count": null,
   "id": "6b577e30-57d4-4251-a587-bbf854a02cf5",
   "metadata": {},
   "outputs": [],
   "source": []
  },
  {
   "cell_type": "code",
   "execution_count": null,
   "id": "9b23eb50-6b34-4b18-ac6d-3b67529a784d",
   "metadata": {},
   "outputs": [],
   "source": []
  },
  {
   "cell_type": "code",
   "execution_count": null,
   "id": "fdae5b83-751c-49d9-835b-4f8f050063e1",
   "metadata": {},
   "outputs": [],
   "source": []
  },
  {
   "cell_type": "code",
   "execution_count": null,
   "id": "ade36d50-972b-4b65-a183-a26563e09fd4",
   "metadata": {},
   "outputs": [],
   "source": []
  }
 ],
 "metadata": {
  "kernelspec": {
   "display_name": "Python 3 (ipykernel)",
   "language": "python",
   "name": "python3"
  },
  "language_info": {
   "codemirror_mode": {
    "name": "ipython",
    "version": 3
   },
   "file_extension": ".py",
   "mimetype": "text/x-python",
   "name": "python",
   "nbconvert_exporter": "python",
   "pygments_lexer": "ipython3",
   "version": "3.9.12"
  }
 },
 "nbformat": 4,
 "nbformat_minor": 5
}
